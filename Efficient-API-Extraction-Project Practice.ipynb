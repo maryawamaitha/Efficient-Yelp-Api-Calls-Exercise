{
 "cells": [
  {
   "cell_type": "code",
   "execution_count": 38,
   "id": "90d6bf21",
   "metadata": {},
   "outputs": [],
   "source": [
    "import json\n",
    "from yelpapi import YelpAPI\n",
    "import os,math,time"
   ]
  },
  {
   "cell_type": "code",
   "execution_count": 6,
   "id": "08db0d96",
   "metadata": {},
   "outputs": [
    {
     "data": {
      "text/plain": [
       "dict_keys(['client-id', 'api-key'])"
      ]
     },
     "execution_count": 6,
     "metadata": {},
     "output_type": "execute_result"
    }
   ],
   "source": [
    "with open('/Users/marya/.secret/yelp_api.json') as f:\n",
    "    login = json.load(f)\n",
    "login.keys()"
   ]
  },
  {
   "cell_type": "code",
   "execution_count": 7,
   "id": "a4c10d0f",
   "metadata": {},
   "outputs": [
    {
     "data": {
      "text/plain": [
       "<yelpapi.yelpapi.YelpAPI at 0x1f01420ad08>"
      ]
     },
     "execution_count": 7,
     "metadata": {},
     "output_type": "execute_result"
    }
   ],
   "source": [
    "yelp_api = YelpAPI(login['api-key'],timeout_s=5.0)\n",
    "yelp_api"
   ]
  },
  {
   "cell_type": "code",
   "execution_count": 46,
   "id": "2f744ebc",
   "metadata": {},
   "outputs": [],
   "source": [
    "LOCATION = 'Boston, MA'\n",
    "TERM = 'Oysters'"
   ]
  },
  {
   "cell_type": "code",
   "execution_count": 47,
   "id": "b2102d78",
   "metadata": {},
   "outputs": [
    {
     "data": {
      "text/plain": [
       "'Data/results_in_progress_Oysters.json'"
      ]
     },
     "execution_count": 47,
     "metadata": {},
     "output_type": "execute_result"
    }
   ],
   "source": [
    "JSON_FILE = f\"Data/results_in_progress_Oysters.json\"\n",
    "JSON_FILE"
   ]
  },
  {
   "cell_type": "code",
   "execution_count": 51,
   "id": "e30e2f04",
   "metadata": {},
   "outputs": [
    {
     "name": "stdout",
     "output_type": "stream",
     "text": [
      "[i] Data/results_in_progress_Oysters.json not found. Saving empty list to file.\n"
     ]
    }
   ],
   "source": [
    "file_exists = os.path.isfile(JSON_FILE)\n",
    " \n",
    "if file_exists == False:\n",
    "\n",
    "    folder = os.path.dirname(JSON_FILE)\n",
    "\n",
    "if len(folder)>0:\n",
    "\n",
    "    os.makedirs(folder,exist_ok=True)\n",
    "    print(f\"[i] {JSON_FILE} not found. Saving empty list to file.\")\n",
    "\n",
    "    with open(JSON_FILE,'w') as f:\n",
    "        json.dump([],f)  \n",
    "\n",
    "else:\n",
    "    print(f\"[i] {JSON_FILE} already exists.\")"
   ]
  },
  {
   "cell_type": "code",
   "execution_count": 52,
   "id": "4cf47008",
   "metadata": {
    "scrolled": true
   },
   "outputs": [
    {
     "name": "stdout",
     "output_type": "stream",
     "text": [
      "- 0 previous results found.\n"
     ]
    }
   ],
   "source": [
    "with open(JSON_FILE, 'r') as f:\n",
    "    previous_results = json.load(f)\n",
    "\n",
    "n_results = len(previous_results)\n",
    "print(f'- {n_results} previous results found.')"
   ]
  },
  {
   "cell_type": "code",
   "execution_count": 69,
   "id": "7489ad80",
   "metadata": {},
   "outputs": [
    {
     "name": "stdout",
     "output_type": "stream",
     "text": [
      "<class 'dict'>\n"
     ]
    },
    {
     "data": {
      "text/plain": [
       "dict_keys(['businesses', 'total', 'region'])"
      ]
     },
     "execution_count": 69,
     "metadata": {},
     "output_type": "execute_result"
    }
   ],
   "source": [
    "results = yelp_api.search_query(location='Boston, MA',\n",
    "                                       term='Oysters')\n",
    "print(type(search_results))\n",
    "search_results.keys()"
   ]
  },
  {
   "cell_type": "code",
   "execution_count": 70,
   "id": "328fe145",
   "metadata": {},
   "outputs": [
    {
     "data": {
      "text/plain": [
       "1100"
      ]
     },
     "execution_count": 70,
     "metadata": {},
     "output_type": "execute_result"
    }
   ],
   "source": [
    "total_results=results['total']\n",
    "total_results"
   ]
  },
  {
   "cell_type": "code",
   "execution_count": 71,
   "id": "e91788b8",
   "metadata": {},
   "outputs": [
    {
     "data": {
      "text/plain": [
       "20"
      ]
     },
     "execution_count": 71,
     "metadata": {},
     "output_type": "execute_result"
    }
   ],
   "source": [
    "results_per_page = len(results['businesses'])\n",
    "results_per_page"
   ]
  },
  {
   "cell_type": "code",
   "execution_count": 72,
   "id": "01c14715",
   "metadata": {},
   "outputs": [
    {
     "data": {
      "text/plain": [
       "5"
      ]
     },
     "execution_count": 72,
     "metadata": {},
     "output_type": "execute_result"
    }
   ],
   "source": [
    "n_pages = math.ceil((search_results['total']-n_results)/ results_per_page)\n",
    "n_pages"
   ]
  },
  {
   "cell_type": "code",
   "execution_count": 73,
   "id": "bc53119b",
   "metadata": {},
   "outputs": [],
   "source": [
    "previous_results.extend(results['businesses'])\n",
    "with open(JSON_FILE,'w') as f:\n",
    "        json.dump([],f)  "
   ]
  },
  {
   "cell_type": "code",
   "execution_count": 64,
   "id": "95de9a3e",
   "metadata": {},
   "outputs": [
    {
     "name": "stdout",
     "output_type": "stream",
     "text": [
      "Requirement already satisfied: tqdm in c:\\users\\marya\\anaconda3\\envs\\dojo-env\\lib\\site-packages (4.64.0)\n",
      "Requirement already satisfied: colorama in c:\\users\\marya\\anaconda3\\envs\\dojo-env\\lib\\site-packages (from tqdm) (0.4.4)\n",
      "Note: you may need to restart the kernel to use updated packages.\n"
     ]
    }
   ],
   "source": [
    "pip install tqdm"
   ]
  },
  {
   "cell_type": "code",
   "execution_count": 74,
   "id": "8a5b4ab1",
   "metadata": {},
   "outputs": [
    {
     "data": {
      "application/vnd.jupyter.widget-view+json": {
       "model_id": "f9bbdf2d2a9146318d80c5d4549cb937",
       "version_major": 2,
       "version_minor": 0
      },
      "text/plain": [
       "  0%|          | 0/5 [00:00<?, ?it/s]"
      ]
     },
     "metadata": {},
     "output_type": "display_data"
    }
   ],
   "source": [
    "from tqdm.notebook import tqdm_notebook\n",
    "import time\n",
    "for i in tqdm_notebook(range(n_pages)):\n",
    "    # adds 200 ms pause\n",
    "    time.sleep(.2) "
   ]
  },
  {
   "cell_type": "code",
   "execution_count": 75,
   "id": "1a0237cc",
   "metadata": {},
   "outputs": [
    {
     "data": {
      "application/vnd.jupyter.widget-view+json": {
       "model_id": "6cd4ad5091f243f1976be9af9965f07f",
       "version_major": 2,
       "version_minor": 0
      },
      "text/plain": [
       "  0%|          | 0/5 [00:00<?, ?it/s]"
      ]
     },
     "metadata": {},
     "output_type": "display_data"
    }
   ],
   "source": [
    "for i in tqdm_notebook( range(1,n_pages+1)):\n",
    "    time.sleep(.2)\n",
    "\n",
    "    with open(JSON_FILE, 'r') as f:\n",
    "        previous_results = json.load(f)\n",
    "\n",
    "    n_results = len(previous_results)\n",
    "## use n_results as the OFFSET \n",
    "    results = yelp_api.search_query(location=LOCATION,\n",
    "                                    term=TERM, \n",
    "                                    offset=n_results)\n",
    "## Adding new results and save to file\n",
    "    previous_results.extend(results['businesses'])\n",
    "    \n",
    "#display(previous_results)\n",
    "    with open(JSON_FILE,'w') as f:\n",
    "        json.dump(previous_results,f)"
   ]
  },
  {
   "cell_type": "markdown",
   "id": "8d434d9a",
   "metadata": {},
   "source": [
    "# Displaying Results in a Dataframe"
   ]
  },
  {
   "cell_type": "code",
   "execution_count": 78,
   "id": "d868b34b",
   "metadata": {},
   "outputs": [
    {
     "data": {
      "text/html": [
       "<div>\n",
       "<style scoped>\n",
       "    .dataframe tbody tr th:only-of-type {\n",
       "        vertical-align: middle;\n",
       "    }\n",
       "\n",
       "    .dataframe tbody tr th {\n",
       "        vertical-align: top;\n",
       "    }\n",
       "\n",
       "    .dataframe thead th {\n",
       "        text-align: right;\n",
       "    }\n",
       "</style>\n",
       "<table border=\"1\" class=\"dataframe\">\n",
       "  <thead>\n",
       "    <tr style=\"text-align: right;\">\n",
       "      <th></th>\n",
       "      <th>id</th>\n",
       "      <th>alias</th>\n",
       "      <th>name</th>\n",
       "      <th>image_url</th>\n",
       "      <th>is_closed</th>\n",
       "      <th>url</th>\n",
       "      <th>review_count</th>\n",
       "      <th>categories</th>\n",
       "      <th>rating</th>\n",
       "      <th>coordinates</th>\n",
       "      <th>transactions</th>\n",
       "      <th>price</th>\n",
       "      <th>location</th>\n",
       "      <th>phone</th>\n",
       "      <th>display_phone</th>\n",
       "      <th>distance</th>\n",
       "    </tr>\n",
       "  </thead>\n",
       "  <tbody>\n",
       "    <tr>\n",
       "      <th>0</th>\n",
       "      <td>y2w6rFaO0XEiG5mFfOsiFA</td>\n",
       "      <td>neptune-oyster-boston</td>\n",
       "      <td>Neptune Oyster</td>\n",
       "      <td>https://s3-media1.fl.yelpcdn.com/bphoto/u4Lkf6...</td>\n",
       "      <td>False</td>\n",
       "      <td>https://www.yelp.com/biz/neptune-oyster-boston...</td>\n",
       "      <td>5521</td>\n",
       "      <td>[{'alias': 'seafood', 'title': 'Seafood'}, {'a...</td>\n",
       "      <td>4.5</td>\n",
       "      <td>{'latitude': 42.36321, 'longitude': -71.05594}</td>\n",
       "      <td>[delivery]</td>\n",
       "      <td>$$$</td>\n",
       "      <td>{'address1': '63 Salem St', 'address2': '', 'a...</td>\n",
       "      <td>+16177423474</td>\n",
       "      <td>(617) 742-3474</td>\n",
       "      <td>2122.402939</td>\n",
       "    </tr>\n",
       "    <tr>\n",
       "      <th>1</th>\n",
       "      <td>sA2gVTJOBH7Qk32p48ENdQ</td>\n",
       "      <td>saltie-girl-boston</td>\n",
       "      <td>Saltie Girl</td>\n",
       "      <td>https://s3-media4.fl.yelpcdn.com/bphoto/k4kCgo...</td>\n",
       "      <td>False</td>\n",
       "      <td>https://www.yelp.com/biz/saltie-girl-boston?ad...</td>\n",
       "      <td>1487</td>\n",
       "      <td>[{'alias': 'seafood', 'title': 'Seafood'}, {'a...</td>\n",
       "      <td>4.5</td>\n",
       "      <td>{'latitude': 42.35116, 'longitude': -71.07758}</td>\n",
       "      <td>[delivery, pickup]</td>\n",
       "      <td>$$$</td>\n",
       "      <td>{'address1': '279 Dartmouth St', 'address2': '...</td>\n",
       "      <td>+16172670691</td>\n",
       "      <td>(617) 267-0691</td>\n",
       "      <td>638.213544</td>\n",
       "    </tr>\n",
       "    <tr>\n",
       "      <th>2</th>\n",
       "      <td>Ruq91rmQNweZ78TzKylQMg</td>\n",
       "      <td>union-oyster-house-boston</td>\n",
       "      <td>Union Oyster House</td>\n",
       "      <td>https://s3-media3.fl.yelpcdn.com/bphoto/59KE1O...</td>\n",
       "      <td>False</td>\n",
       "      <td>https://www.yelp.com/biz/union-oyster-house-bo...</td>\n",
       "      <td>3083</td>\n",
       "      <td>[{'alias': 'seafood', 'title': 'Seafood'}]</td>\n",
       "      <td>3.5</td>\n",
       "      <td>{'latitude': 42.36128, 'longitude': -71.05688}</td>\n",
       "      <td>[delivery, pickup]</td>\n",
       "      <td>$$</td>\n",
       "      <td>{'address1': '41 Union St', 'address2': '', 'a...</td>\n",
       "      <td>+16172272750</td>\n",
       "      <td>(617) 227-2750</td>\n",
       "      <td>1912.817873</td>\n",
       "    </tr>\n",
       "    <tr>\n",
       "      <th>3</th>\n",
       "      <td>mxjVk5rvPNhzYe_vt3OSQA</td>\n",
       "      <td>b-and-g-oysters-boston</td>\n",
       "      <td>B&amp;G Oysters</td>\n",
       "      <td>https://s3-media1.fl.yelpcdn.com/bphoto/hhuEaW...</td>\n",
       "      <td>False</td>\n",
       "      <td>https://www.yelp.com/biz/b-and-g-oysters-bosto...</td>\n",
       "      <td>1104</td>\n",
       "      <td>[{'alias': 'seafood', 'title': 'Seafood'}, {'a...</td>\n",
       "      <td>4.0</td>\n",
       "      <td>{'latitude': 42.34388, 'longitude': -71.07123}</td>\n",
       "      <td>[delivery, pickup]</td>\n",
       "      <td>$$$</td>\n",
       "      <td>{'address1': '550 Tremont St', 'address2': '',...</td>\n",
       "      <td>+16174230550</td>\n",
       "      <td>(617) 423-0550</td>\n",
       "      <td>436.649431</td>\n",
       "    </tr>\n",
       "    <tr>\n",
       "      <th>4</th>\n",
       "      <td>nyy38msunExaObJOeH7j0Q</td>\n",
       "      <td>bootleg-special-boston</td>\n",
       "      <td>Bootleg Special</td>\n",
       "      <td>https://s3-media1.fl.yelpcdn.com/bphoto/DrKLEO...</td>\n",
       "      <td>False</td>\n",
       "      <td>https://www.yelp.com/biz/bootleg-special-bosto...</td>\n",
       "      <td>844</td>\n",
       "      <td>[{'alias': 'seafood', 'title': 'Seafood'}, {'a...</td>\n",
       "      <td>4.0</td>\n",
       "      <td>{'latitude': 42.3471199, 'longitude': -71.06834}</td>\n",
       "      <td>[delivery, restaurant_reservation, pickup]</td>\n",
       "      <td>$$</td>\n",
       "      <td>{'address1': '400 Tremont St', 'address2': Non...</td>\n",
       "      <td>+16174511800</td>\n",
       "      <td>(617) 451-1800</td>\n",
       "      <td>258.081254</td>\n",
       "    </tr>\n",
       "  </tbody>\n",
       "</table>\n",
       "</div>"
      ],
      "text/plain": [
       "                       id                      alias                name  \\\n",
       "0  y2w6rFaO0XEiG5mFfOsiFA      neptune-oyster-boston      Neptune Oyster   \n",
       "1  sA2gVTJOBH7Qk32p48ENdQ         saltie-girl-boston         Saltie Girl   \n",
       "2  Ruq91rmQNweZ78TzKylQMg  union-oyster-house-boston  Union Oyster House   \n",
       "3  mxjVk5rvPNhzYe_vt3OSQA     b-and-g-oysters-boston         B&G Oysters   \n",
       "4  nyy38msunExaObJOeH7j0Q     bootleg-special-boston     Bootleg Special   \n",
       "\n",
       "                                           image_url  is_closed  \\\n",
       "0  https://s3-media1.fl.yelpcdn.com/bphoto/u4Lkf6...      False   \n",
       "1  https://s3-media4.fl.yelpcdn.com/bphoto/k4kCgo...      False   \n",
       "2  https://s3-media3.fl.yelpcdn.com/bphoto/59KE1O...      False   \n",
       "3  https://s3-media1.fl.yelpcdn.com/bphoto/hhuEaW...      False   \n",
       "4  https://s3-media1.fl.yelpcdn.com/bphoto/DrKLEO...      False   \n",
       "\n",
       "                                                 url  review_count  \\\n",
       "0  https://www.yelp.com/biz/neptune-oyster-boston...          5521   \n",
       "1  https://www.yelp.com/biz/saltie-girl-boston?ad...          1487   \n",
       "2  https://www.yelp.com/biz/union-oyster-house-bo...          3083   \n",
       "3  https://www.yelp.com/biz/b-and-g-oysters-bosto...          1104   \n",
       "4  https://www.yelp.com/biz/bootleg-special-bosto...           844   \n",
       "\n",
       "                                          categories  rating  \\\n",
       "0  [{'alias': 'seafood', 'title': 'Seafood'}, {'a...     4.5   \n",
       "1  [{'alias': 'seafood', 'title': 'Seafood'}, {'a...     4.5   \n",
       "2         [{'alias': 'seafood', 'title': 'Seafood'}]     3.5   \n",
       "3  [{'alias': 'seafood', 'title': 'Seafood'}, {'a...     4.0   \n",
       "4  [{'alias': 'seafood', 'title': 'Seafood'}, {'a...     4.0   \n",
       "\n",
       "                                        coordinates  \\\n",
       "0    {'latitude': 42.36321, 'longitude': -71.05594}   \n",
       "1    {'latitude': 42.35116, 'longitude': -71.07758}   \n",
       "2    {'latitude': 42.36128, 'longitude': -71.05688}   \n",
       "3    {'latitude': 42.34388, 'longitude': -71.07123}   \n",
       "4  {'latitude': 42.3471199, 'longitude': -71.06834}   \n",
       "\n",
       "                                 transactions price  \\\n",
       "0                                  [delivery]   $$$   \n",
       "1                          [delivery, pickup]   $$$   \n",
       "2                          [delivery, pickup]    $$   \n",
       "3                          [delivery, pickup]   $$$   \n",
       "4  [delivery, restaurant_reservation, pickup]    $$   \n",
       "\n",
       "                                            location         phone  \\\n",
       "0  {'address1': '63 Salem St', 'address2': '', 'a...  +16177423474   \n",
       "1  {'address1': '279 Dartmouth St', 'address2': '...  +16172670691   \n",
       "2  {'address1': '41 Union St', 'address2': '', 'a...  +16172272750   \n",
       "3  {'address1': '550 Tremont St', 'address2': '',...  +16174230550   \n",
       "4  {'address1': '400 Tremont St', 'address2': Non...  +16174511800   \n",
       "\n",
       "    display_phone     distance  \n",
       "0  (617) 742-3474  2122.402939  \n",
       "1  (617) 267-0691   638.213544  \n",
       "2  (617) 227-2750  1912.817873  \n",
       "3  (617) 423-0550   436.649431  \n",
       "4  (617) 451-1800   258.081254  "
      ]
     },
     "metadata": {},
     "output_type": "display_data"
    },
    {
     "data": {
      "text/html": [
       "<div>\n",
       "<style scoped>\n",
       "    .dataframe tbody tr th:only-of-type {\n",
       "        vertical-align: middle;\n",
       "    }\n",
       "\n",
       "    .dataframe tbody tr th {\n",
       "        vertical-align: top;\n",
       "    }\n",
       "\n",
       "    .dataframe thead th {\n",
       "        text-align: right;\n",
       "    }\n",
       "</style>\n",
       "<table border=\"1\" class=\"dataframe\">\n",
       "  <thead>\n",
       "    <tr style=\"text-align: right;\">\n",
       "      <th></th>\n",
       "      <th>id</th>\n",
       "      <th>alias</th>\n",
       "      <th>name</th>\n",
       "      <th>image_url</th>\n",
       "      <th>is_closed</th>\n",
       "      <th>url</th>\n",
       "      <th>review_count</th>\n",
       "      <th>categories</th>\n",
       "      <th>rating</th>\n",
       "      <th>coordinates</th>\n",
       "      <th>transactions</th>\n",
       "      <th>price</th>\n",
       "      <th>location</th>\n",
       "      <th>phone</th>\n",
       "      <th>display_phone</th>\n",
       "      <th>distance</th>\n",
       "    </tr>\n",
       "  </thead>\n",
       "  <tbody>\n",
       "    <tr>\n",
       "      <th>95</th>\n",
       "      <td>AHgRWXw3IMe5WHktt3f6Xg</td>\n",
       "      <td>crudo-boston</td>\n",
       "      <td>Crudo</td>\n",
       "      <td>https://s3-media4.fl.yelpcdn.com/bphoto/mVlPvK...</td>\n",
       "      <td>False</td>\n",
       "      <td>https://www.yelp.com/biz/crudo-boston?adjust_c...</td>\n",
       "      <td>300</td>\n",
       "      <td>[{'alias': 'japanese', 'title': 'Japanese'}, {...</td>\n",
       "      <td>4.0</td>\n",
       "      <td>{'latitude': 42.3636849645937, 'longitude': -7...</td>\n",
       "      <td>[pickup, delivery]</td>\n",
       "      <td>$$$</td>\n",
       "      <td>{'address1': '78 Salem St', 'address2': '', 'a...</td>\n",
       "      <td>+16173676500</td>\n",
       "      <td>(617) 367-6500</td>\n",
       "      <td>2166.017010</td>\n",
       "    </tr>\n",
       "    <tr>\n",
       "      <th>96</th>\n",
       "      <td>omw2RVtNoMJ-Eet6Tvl_IA</td>\n",
       "      <td>the-oceanaire-seafood-room-boston</td>\n",
       "      <td>The Oceanaire Seafood Room</td>\n",
       "      <td>https://s3-media2.fl.yelpcdn.com/bphoto/9nTUNx...</td>\n",
       "      <td>False</td>\n",
       "      <td>https://www.yelp.com/biz/the-oceanaire-seafood...</td>\n",
       "      <td>713</td>\n",
       "      <td>[{'alias': 'seafood', 'title': 'Seafood'}]</td>\n",
       "      <td>4.0</td>\n",
       "      <td>{'latitude': 42.359075, 'longitude': -71.059176}</td>\n",
       "      <td>[pickup, delivery]</td>\n",
       "      <td>$$$</td>\n",
       "      <td>{'address1': '40 Court St', 'address2': '', 'a...</td>\n",
       "      <td>+16177422277</td>\n",
       "      <td>(617) 742-2277</td>\n",
       "      <td>1594.835753</td>\n",
       "    </tr>\n",
       "    <tr>\n",
       "      <th>97</th>\n",
       "      <td>MKIngNGj0_cBKV4leGuCjw</td>\n",
       "      <td>the-tip-tap-room-boston</td>\n",
       "      <td>The Tip Tap Room</td>\n",
       "      <td>https://s3-media1.fl.yelpcdn.com/bphoto/P48ljb...</td>\n",
       "      <td>False</td>\n",
       "      <td>https://www.yelp.com/biz/the-tip-tap-room-bost...</td>\n",
       "      <td>736</td>\n",
       "      <td>[{'alias': 'newamerican', 'title': 'American (...</td>\n",
       "      <td>4.0</td>\n",
       "      <td>{'latitude': 42.36105, 'longitude': -71.063986}</td>\n",
       "      <td>[delivery]</td>\n",
       "      <td>$$</td>\n",
       "      <td>{'address1': '138 Cambridge St', 'address2': '...</td>\n",
       "      <td>+18573503344</td>\n",
       "      <td>(857) 350-3344</td>\n",
       "      <td>1585.147588</td>\n",
       "    </tr>\n",
       "    <tr>\n",
       "      <th>98</th>\n",
       "      <td>_Xh0hL64vuxfHf3iewJYQA</td>\n",
       "      <td>prairie-fire-brookline</td>\n",
       "      <td>Prairie Fire</td>\n",
       "      <td>https://s3-media1.fl.yelpcdn.com/bphoto/f4F2BR...</td>\n",
       "      <td>False</td>\n",
       "      <td>https://www.yelp.com/biz/prairie-fire-brooklin...</td>\n",
       "      <td>143</td>\n",
       "      <td>[{'alias': 'pizza', 'title': 'Pizza'}, {'alias...</td>\n",
       "      <td>4.0</td>\n",
       "      <td>{'latitude': 42.3413165917443, 'longitude': -7...</td>\n",
       "      <td>[delivery]</td>\n",
       "      <td>$$</td>\n",
       "      <td>{'address1': '242 Harvard St', 'address2': '',...</td>\n",
       "      <td>+16173968199</td>\n",
       "      <td>(617) 396-8199</td>\n",
       "      <td>4168.062860</td>\n",
       "    </tr>\n",
       "    <tr>\n",
       "      <th>99</th>\n",
       "      <td>nIS4O-TwLYkA_P1Cu0SfhA</td>\n",
       "      <td>yvonnes-boston</td>\n",
       "      <td>Yvonne's</td>\n",
       "      <td>https://s3-media3.fl.yelpcdn.com/bphoto/8ZNXlv...</td>\n",
       "      <td>False</td>\n",
       "      <td>https://www.yelp.com/biz/yvonnes-boston?adjust...</td>\n",
       "      <td>1154</td>\n",
       "      <td>[{'alias': 'newamerican', 'title': 'American (...</td>\n",
       "      <td>4.0</td>\n",
       "      <td>{'latitude': 42.355517, 'longitude': -71.0614361}</td>\n",
       "      <td>[delivery]</td>\n",
       "      <td>$$</td>\n",
       "      <td>{'address1': '2 Winter Pl', 'address2': None, ...</td>\n",
       "      <td>+16172670047</td>\n",
       "      <td>(617) 267-0047</td>\n",
       "      <td>1173.830091</td>\n",
       "    </tr>\n",
       "  </tbody>\n",
       "</table>\n",
       "</div>"
      ],
      "text/plain": [
       "                        id                              alias  \\\n",
       "95  AHgRWXw3IMe5WHktt3f6Xg                       crudo-boston   \n",
       "96  omw2RVtNoMJ-Eet6Tvl_IA  the-oceanaire-seafood-room-boston   \n",
       "97  MKIngNGj0_cBKV4leGuCjw            the-tip-tap-room-boston   \n",
       "98  _Xh0hL64vuxfHf3iewJYQA             prairie-fire-brookline   \n",
       "99  nIS4O-TwLYkA_P1Cu0SfhA                     yvonnes-boston   \n",
       "\n",
       "                          name  \\\n",
       "95                       Crudo   \n",
       "96  The Oceanaire Seafood Room   \n",
       "97            The Tip Tap Room   \n",
       "98                Prairie Fire   \n",
       "99                    Yvonne's   \n",
       "\n",
       "                                            image_url  is_closed  \\\n",
       "95  https://s3-media4.fl.yelpcdn.com/bphoto/mVlPvK...      False   \n",
       "96  https://s3-media2.fl.yelpcdn.com/bphoto/9nTUNx...      False   \n",
       "97  https://s3-media1.fl.yelpcdn.com/bphoto/P48ljb...      False   \n",
       "98  https://s3-media1.fl.yelpcdn.com/bphoto/f4F2BR...      False   \n",
       "99  https://s3-media3.fl.yelpcdn.com/bphoto/8ZNXlv...      False   \n",
       "\n",
       "                                                  url  review_count  \\\n",
       "95  https://www.yelp.com/biz/crudo-boston?adjust_c...           300   \n",
       "96  https://www.yelp.com/biz/the-oceanaire-seafood...           713   \n",
       "97  https://www.yelp.com/biz/the-tip-tap-room-bost...           736   \n",
       "98  https://www.yelp.com/biz/prairie-fire-brooklin...           143   \n",
       "99  https://www.yelp.com/biz/yvonnes-boston?adjust...          1154   \n",
       "\n",
       "                                           categories  rating  \\\n",
       "95  [{'alias': 'japanese', 'title': 'Japanese'}, {...     4.0   \n",
       "96         [{'alias': 'seafood', 'title': 'Seafood'}]     4.0   \n",
       "97  [{'alias': 'newamerican', 'title': 'American (...     4.0   \n",
       "98  [{'alias': 'pizza', 'title': 'Pizza'}, {'alias...     4.0   \n",
       "99  [{'alias': 'newamerican', 'title': 'American (...     4.0   \n",
       "\n",
       "                                          coordinates        transactions  \\\n",
       "95  {'latitude': 42.3636849645937, 'longitude': -7...  [pickup, delivery]   \n",
       "96   {'latitude': 42.359075, 'longitude': -71.059176}  [pickup, delivery]   \n",
       "97    {'latitude': 42.36105, 'longitude': -71.063986}          [delivery]   \n",
       "98  {'latitude': 42.3413165917443, 'longitude': -7...          [delivery]   \n",
       "99  {'latitude': 42.355517, 'longitude': -71.0614361}          [delivery]   \n",
       "\n",
       "   price                                           location         phone  \\\n",
       "95   $$$  {'address1': '78 Salem St', 'address2': '', 'a...  +16173676500   \n",
       "96   $$$  {'address1': '40 Court St', 'address2': '', 'a...  +16177422277   \n",
       "97    $$  {'address1': '138 Cambridge St', 'address2': '...  +18573503344   \n",
       "98    $$  {'address1': '242 Harvard St', 'address2': '',...  +16173968199   \n",
       "99    $$  {'address1': '2 Winter Pl', 'address2': None, ...  +16172670047   \n",
       "\n",
       "     display_phone     distance  \n",
       "95  (617) 367-6500  2166.017010  \n",
       "96  (617) 742-2277  1594.835753  \n",
       "97  (857) 350-3344  1585.147588  \n",
       "98  (617) 396-8199  4168.062860  \n",
       "99  (617) 267-0047  1173.830091  "
      ]
     },
     "metadata": {},
     "output_type": "display_data"
    }
   ],
   "source": [
    "import pandas as pd\n",
    "final_df = pd.read_json(JSON_FILE)\n",
    "display(final_df.head(),final_df.tail())"
   ]
  },
  {
   "cell_type": "markdown",
   "id": "6c8605c9",
   "metadata": {},
   "source": [
    "# Checking for Duplicates"
   ]
  },
  {
   "cell_type": "code",
   "execution_count": 79,
   "id": "b1cd44ec",
   "metadata": {},
   "outputs": [
    {
     "data": {
      "text/plain": [
       "0"
      ]
     },
     "execution_count": 79,
     "metadata": {},
     "output_type": "execute_result"
    }
   ],
   "source": [
    "final_df.duplicated(subset='id').sum()"
   ]
  },
  {
   "cell_type": "code",
   "execution_count": 80,
   "id": "8a123795",
   "metadata": {},
   "outputs": [],
   "source": [
    "final_df.to_csv('Data/final_results_Oysters.csv.gz', compression='gzip',\n",
    "                index=False)"
   ]
  },
  {
   "cell_type": "code",
   "execution_count": null,
   "id": "78242ab2",
   "metadata": {},
   "outputs": [],
   "source": []
  }
 ],
 "metadata": {
  "kernelspec": {
   "display_name": "Python (dojo-env)",
   "language": "python",
   "name": "dojo-env"
  },
  "language_info": {
   "codemirror_mode": {
    "name": "ipython",
    "version": 3
   },
   "file_extension": ".py",
   "mimetype": "text/x-python",
   "name": "python",
   "nbconvert_exporter": "python",
   "pygments_lexer": "ipython3",
   "version": "3.7.12"
  },
  "toc": {
   "base_numbering": 1,
   "nav_menu": {},
   "number_sections": false,
   "sideBar": true,
   "skip_h1_title": false,
   "title_cell": "Table of Contents",
   "title_sidebar": "Contents",
   "toc_cell": false,
   "toc_position": {},
   "toc_section_display": true,
   "toc_window_display": false
  }
 },
 "nbformat": 4,
 "nbformat_minor": 5
}
